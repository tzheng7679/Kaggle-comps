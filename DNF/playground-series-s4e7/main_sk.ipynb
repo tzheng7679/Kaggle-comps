{
 "cells": [
  {
   "cell_type": "markdown",
   "metadata": {},
   "source": [
    "# Binary Classification of Insurance Cross Selling "
   ]
  },
  {
   "cell_type": "code",
   "execution_count": 1,
   "metadata": {},
   "outputs": [
    {
     "name": "stdout",
     "output_type": "stream",
     "text": [
      "NVIDIA GeForce GTX 1650 SUPER\n"
     ]
    }
   ],
   "source": [
    "import polars as pl\n",
    "import torch\n",
    "\n",
    "device = \"cuda\" if torch.cuda.is_available else \"cpu\"\n",
    "torch.set_default_device(device)\n",
    "print(torch.cuda.get_device_name(torch.cuda.current_device()))"
   ]
  },
  {
   "cell_type": "markdown",
   "metadata": {},
   "source": [
    "## Data Formatting"
   ]
  },
  {
   "cell_type": "code",
   "execution_count": 2,
   "metadata": {},
   "outputs": [],
   "source": [
    "df = pl.read_csv(\"train.csv\")"
   ]
  },
  {
   "cell_type": "code",
   "execution_count": 3,
   "metadata": {},
   "outputs": [
    {
     "data": {
      "text/html": [
       "<div><style>\n",
       ".dataframe > thead > tr,\n",
       ".dataframe > tbody > tr {\n",
       "  text-align: right;\n",
       "  white-space: pre-wrap;\n",
       "}\n",
       "</style>\n",
       "<small>shape: (5, 12)</small><table border=\"1\" class=\"dataframe\"><thead><tr><th>id</th><th>Gender</th><th>Age</th><th>Driving_License</th><th>Region_Code</th><th>Previously_Insured</th><th>Vehicle_Age</th><th>Vehicle_Damage</th><th>Annual_Premium</th><th>Policy_Sales_Channel</th><th>Vintage</th><th>Response</th></tr><tr><td>i64</td><td>str</td><td>i64</td><td>i64</td><td>f64</td><td>i64</td><td>str</td><td>str</td><td>f64</td><td>f64</td><td>i64</td><td>i64</td></tr></thead><tbody><tr><td>0</td><td>&quot;Male&quot;</td><td>21</td><td>1</td><td>35.0</td><td>0</td><td>&quot;1-2 Year&quot;</td><td>&quot;Yes&quot;</td><td>65101.0</td><td>124.0</td><td>187</td><td>0</td></tr><tr><td>1</td><td>&quot;Male&quot;</td><td>43</td><td>1</td><td>28.0</td><td>0</td><td>&quot;&gt; 2 Years&quot;</td><td>&quot;Yes&quot;</td><td>58911.0</td><td>26.0</td><td>288</td><td>1</td></tr><tr><td>2</td><td>&quot;Female&quot;</td><td>25</td><td>1</td><td>14.0</td><td>1</td><td>&quot;&lt; 1 Year&quot;</td><td>&quot;No&quot;</td><td>38043.0</td><td>152.0</td><td>254</td><td>0</td></tr><tr><td>3</td><td>&quot;Female&quot;</td><td>35</td><td>1</td><td>1.0</td><td>0</td><td>&quot;1-2 Year&quot;</td><td>&quot;Yes&quot;</td><td>2630.0</td><td>156.0</td><td>76</td><td>0</td></tr><tr><td>4</td><td>&quot;Female&quot;</td><td>36</td><td>1</td><td>15.0</td><td>1</td><td>&quot;1-2 Year&quot;</td><td>&quot;No&quot;</td><td>31951.0</td><td>152.0</td><td>294</td><td>0</td></tr></tbody></table></div>"
      ],
      "text/plain": [
       "shape: (5, 12)\n",
       "┌─────┬────────┬─────┬─────────────────┬───┬────────────────┬─────────────────┬─────────┬──────────┐\n",
       "│ id  ┆ Gender ┆ Age ┆ Driving_License ┆ … ┆ Annual_Premium ┆ Policy_Sales_Ch ┆ Vintage ┆ Response │\n",
       "│ --- ┆ ---    ┆ --- ┆ ---             ┆   ┆ ---            ┆ annel           ┆ ---     ┆ ---      │\n",
       "│ i64 ┆ str    ┆ i64 ┆ i64             ┆   ┆ f64            ┆ ---             ┆ i64     ┆ i64      │\n",
       "│     ┆        ┆     ┆                 ┆   ┆                ┆ f64             ┆         ┆          │\n",
       "╞═════╪════════╪═════╪═════════════════╪═══╪════════════════╪═════════════════╪═════════╪══════════╡\n",
       "│ 0   ┆ Male   ┆ 21  ┆ 1               ┆ … ┆ 65101.0        ┆ 124.0           ┆ 187     ┆ 0        │\n",
       "│ 1   ┆ Male   ┆ 43  ┆ 1               ┆ … ┆ 58911.0        ┆ 26.0            ┆ 288     ┆ 1        │\n",
       "│ 2   ┆ Female ┆ 25  ┆ 1               ┆ … ┆ 38043.0        ┆ 152.0           ┆ 254     ┆ 0        │\n",
       "│ 3   ┆ Female ┆ 35  ┆ 1               ┆ … ┆ 2630.0         ┆ 156.0           ┆ 76      ┆ 0        │\n",
       "│ 4   ┆ Female ┆ 36  ┆ 1               ┆ … ┆ 31951.0        ┆ 152.0           ┆ 294     ┆ 0        │\n",
       "└─────┴────────┴─────┴─────────────────┴───┴────────────────┴─────────────────┴─────────┴──────────┘"
      ]
     },
     "execution_count": 3,
     "metadata": {},
     "output_type": "execute_result"
    }
   ],
   "source": [
    "df.head()"
   ]
  },
  {
   "cell_type": "markdown",
   "metadata": {},
   "source": [
    "### Fields that are fine as is\n",
    "We'll just have them return themselves\n"
   ]
  },
  {
   "cell_type": "code",
   "execution_count": 4,
   "metadata": {},
   "outputs": [],
   "source": [
    "def identity(col) -> pl.Series: return col"
   ]
  },
  {
   "cell_type": "markdown",
   "metadata": {},
   "source": [
    "### Functions for values that need to be converted to binary/ternary values: <ul>\n",
    "<li>Gender</li>\n",
    "<li>Vehicle Age</li>\n",
    "<li>Vehicle Damage</li>\n",
    "</ul>"
   ]
  },
  {
   "cell_type": "code",
   "execution_count": 5,
   "metadata": {},
   "outputs": [],
   "source": [
    "def make_gender_binary(col: pl.Series) -> pl.Series:\n",
    "    return col.replace({\n",
    "        \"Male\": 0,\n",
    "        \"Female\": 1\n",
    "    })"
   ]
  },
  {
   "cell_type": "code",
   "execution_count": 6,
   "metadata": {},
   "outputs": [],
   "source": [
    "def string_age_to_int(age):\n",
    "    if age == \"> 2 Years\": return 2\n",
    "    \n",
    "    elif age == \"1-2 Year\": return 1\n",
    "\n",
    "    else: return 0\n",
    "\n",
    "def make_vehicle_age_binary(col: pl.Series) -> pl.Series:\n",
    "    return col.replace({\n",
    "        \"> 2 Years\": 2,\n",
    "        \"1-2 Year\": 1,\n",
    "        \"< 1 Year\": 0\n",
    "    })"
   ]
  },
  {
   "cell_type": "code",
   "execution_count": 7,
   "metadata": {},
   "outputs": [],
   "source": [
    "def make_vehicle_damage_binary(col: pl.Series) -> pl.Series:\n",
    "    return col.replace({\n",
    "        \"Yes\": 1,\n",
    "        \"No\": 0\n",
    "    })"
   ]
  },
  {
   "cell_type": "markdown",
   "metadata": {},
   "source": [
    "### Standardizing Numerical Cols\n",
    "To be standardized:\n",
    "<ul>\n",
    "<li>Age</li>\n",
    "<li>Annual Premium</li>\n",
    "<li>Vintage</li>\n",
    "</ul>"
   ]
  },
  {
   "cell_type": "code",
   "execution_count": 8,
   "metadata": {},
   "outputs": [],
   "source": [
    "def standardize(col: pl.Series) -> pl.Series:\n",
    "    return (col - col.mean()) / col.std()"
   ]
  },
  {
   "cell_type": "markdown",
   "metadata": {},
   "source": [
    "### Numeric Values Without Ordering\n",
    "<i>i.e. the columns that are numbers, but don't have any intrinsic meaning to those numbers </i>\n",
    "<ul>\n",
    "<li>Region Code</li>\n",
    "<li>Sales Channel</li>\n",
    "</ul>"
   ]
  },
  {
   "cell_type": "code",
   "execution_count": 9,
   "metadata": {},
   "outputs": [],
   "source": [
    "def non_ordered_numeric_values(col: pl.Series, reasonable_arg_count = 20) -> pl.DataFrame:\n",
    "    return col.to_dummies()"
   ]
  },
  {
   "cell_type": "markdown",
   "metadata": {},
   "source": [
    "### Formatting It All\n",
    "(Gender,\tAge,\tDriving_License,\tRegion_Code,\tPreviously_Insured,\tVehicle_Age,\tVehicle_Damage,\tAnnual_Premium,\tPolicy_Sales_Channel,\tVintage\tResponse)"
   ]
  },
  {
   "cell_type": "code",
   "execution_count": 10,
   "metadata": {},
   "outputs": [],
   "source": [
    "default_features = {\n",
    "    \"Gender\": make_gender_binary,\n",
    "    \"Age\": standardize,\n",
    "    \"Driving_License\": identity,\n",
    "    \"Region_Code\": \"dummies\",\n",
    "    \"Previously_Insured\": identity,\n",
    "    \"Vehicle_Age\": make_vehicle_age_binary,\n",
    "    \"Vehicle_Damage\": make_vehicle_damage_binary,\n",
    "    \"Annual_Premium\": standardize,\n",
    "    \"Policy_Sales_Channel\": \"dummies\",\n",
    "    \"Vintage\": standardize\n",
    "}\n",
    "\n",
    "def format_df(df: pl.DataFrame, features: dict = default_features) -> pl.DataFrame:\n",
    "    df_copy = df.__copy__()\n",
    "\n",
    "    offset = 0\n",
    "    n = len(df.columns)\n",
    "    for i in range(n):\n",
    "        col = df.columns[i]\n",
    "\n",
    "        if col in features.keys():\n",
    "            if features[col] == \"dummies\":\n",
    "                df_copy = df_copy.to_dummies(col)\n",
    "                offset = len(df_copy.columns) - n\n",
    "            else: \n",
    "                replace: pl.Series = features[col](df[col])\n",
    "                replace = replace.rename(replace.name + \"_new\")\n",
    "                df_copy = df_copy.replace_column(i + offset, replace)\n",
    "    \n",
    "    for non_used in set(df.columns) - set(features.keys()):\n",
    "        df_copy = df_copy.drop(non_used)\n",
    "    print(df_copy.columns)\n",
    "    df_copy = df_copy.cast(pl.Float32)\n",
    "    return df_copy"
   ]
  },
  {
   "cell_type": "markdown",
   "metadata": {},
   "source": [
    "## Making The Model"
   ]
  },
  {
   "cell_type": "code",
   "execution_count": 18,
   "metadata": {},
   "outputs": [
    {
     "name": "stdout",
     "output_type": "stream",
     "text": [
      "['Gender_new', 'Age_new', 'Driving_License_new', 'Region_Code_0.0', 'Region_Code_1.0', 'Region_Code_10.0', 'Region_Code_11.0', 'Region_Code_12.0', 'Region_Code_13.0', 'Region_Code_14.0', 'Region_Code_15.0', 'Region_Code_16.0', 'Region_Code_17.0', 'Region_Code_18.0', 'Region_Code_19.0', 'Region_Code_2.0', 'Region_Code_20.0', 'Region_Code_21.0', 'Region_Code_22.0', 'Region_Code_23.0', 'Region_Code_24.0', 'Region_Code_25.0', 'Region_Code_26.0', 'Region_Code_27.0', 'Region_Code_28.0', 'Region_Code_29.0', 'Region_Code_3.0', 'Region_Code_30.0', 'Region_Code_31.0', 'Region_Code_32.0', 'Region_Code_33.0', 'Region_Code_34.0', 'Region_Code_35.0', 'Region_Code_36.0', 'Region_Code_37.0', 'Region_Code_38.0', 'Region_Code_39.0', 'Region_Code_39.2', 'Region_Code_4.0', 'Region_Code_40.0', 'Region_Code_41.0', 'Region_Code_42.0', 'Region_Code_43.0', 'Region_Code_44.0', 'Region_Code_45.0', 'Region_Code_46.0', 'Region_Code_47.0', 'Region_Code_48.0', 'Region_Code_49.0', 'Region_Code_5.0', 'Region_Code_50.0', 'Region_Code_51.0', 'Region_Code_52.0', 'Region_Code_6.0', 'Region_Code_7.0', 'Region_Code_8.0', 'Region_Code_9.0', 'Previously_Insured_new', 'Vehicle_Age_new', 'Vehicle_Damage_new', 'Annual_Premium_new', 'Policy_Sales_Channel_1.0', 'Policy_Sales_Channel_10.0', 'Policy_Sales_Channel_100.0', 'Policy_Sales_Channel_101.0', 'Policy_Sales_Channel_102.0', 'Policy_Sales_Channel_103.0', 'Policy_Sales_Channel_104.0', 'Policy_Sales_Channel_105.0', 'Policy_Sales_Channel_106.0', 'Policy_Sales_Channel_107.0', 'Policy_Sales_Channel_108.0', 'Policy_Sales_Channel_109.0', 'Policy_Sales_Channel_11.0', 'Policy_Sales_Channel_110.0', 'Policy_Sales_Channel_111.0', 'Policy_Sales_Channel_112.0', 'Policy_Sales_Channel_113.0', 'Policy_Sales_Channel_114.0', 'Policy_Sales_Channel_115.0', 'Policy_Sales_Channel_116.0', 'Policy_Sales_Channel_117.0', 'Policy_Sales_Channel_118.0', 'Policy_Sales_Channel_119.0', 'Policy_Sales_Channel_12.0', 'Policy_Sales_Channel_120.0', 'Policy_Sales_Channel_121.0', 'Policy_Sales_Channel_122.0', 'Policy_Sales_Channel_123.0', 'Policy_Sales_Channel_124.0', 'Policy_Sales_Channel_125.0', 'Policy_Sales_Channel_126.0', 'Policy_Sales_Channel_127.0', 'Policy_Sales_Channel_128.0', 'Policy_Sales_Channel_129.0', 'Policy_Sales_Channel_13.0', 'Policy_Sales_Channel_130.0', 'Policy_Sales_Channel_131.0', 'Policy_Sales_Channel_132.0', 'Policy_Sales_Channel_133.0', 'Policy_Sales_Channel_134.0', 'Policy_Sales_Channel_135.0', 'Policy_Sales_Channel_136.0', 'Policy_Sales_Channel_137.0', 'Policy_Sales_Channel_138.0', 'Policy_Sales_Channel_139.0', 'Policy_Sales_Channel_14.0', 'Policy_Sales_Channel_140.0', 'Policy_Sales_Channel_145.0', 'Policy_Sales_Channel_146.0', 'Policy_Sales_Channel_147.0', 'Policy_Sales_Channel_148.0', 'Policy_Sales_Channel_15.0', 'Policy_Sales_Channel_150.0', 'Policy_Sales_Channel_151.0', 'Policy_Sales_Channel_152.0', 'Policy_Sales_Channel_153.0', 'Policy_Sales_Channel_154.0', 'Policy_Sales_Channel_155.0', 'Policy_Sales_Channel_156.0', 'Policy_Sales_Channel_157.0', 'Policy_Sales_Channel_158.0', 'Policy_Sales_Channel_159.0', 'Policy_Sales_Channel_16.0', 'Policy_Sales_Channel_160.0', 'Policy_Sales_Channel_163.0', 'Policy_Sales_Channel_17.0', 'Policy_Sales_Channel_18.0', 'Policy_Sales_Channel_19.0', 'Policy_Sales_Channel_2.0', 'Policy_Sales_Channel_20.0', 'Policy_Sales_Channel_21.0', 'Policy_Sales_Channel_22.0', 'Policy_Sales_Channel_23.0', 'Policy_Sales_Channel_24.0', 'Policy_Sales_Channel_25.0', 'Policy_Sales_Channel_26.0', 'Policy_Sales_Channel_27.0', 'Policy_Sales_Channel_28.0', 'Policy_Sales_Channel_29.0', 'Policy_Sales_Channel_3.0', 'Policy_Sales_Channel_30.0', 'Policy_Sales_Channel_31.0', 'Policy_Sales_Channel_32.0', 'Policy_Sales_Channel_33.0', 'Policy_Sales_Channel_34.0', 'Policy_Sales_Channel_35.0', 'Policy_Sales_Channel_36.0', 'Policy_Sales_Channel_37.0', 'Policy_Sales_Channel_38.0', 'Policy_Sales_Channel_39.0', 'Policy_Sales_Channel_4.0', 'Policy_Sales_Channel_40.0', 'Policy_Sales_Channel_41.0', 'Policy_Sales_Channel_42.0', 'Policy_Sales_Channel_43.0', 'Policy_Sales_Channel_44.0', 'Policy_Sales_Channel_45.0', 'Policy_Sales_Channel_46.0', 'Policy_Sales_Channel_47.0', 'Policy_Sales_Channel_48.0', 'Policy_Sales_Channel_49.0', 'Policy_Sales_Channel_5.0', 'Policy_Sales_Channel_50.0', 'Policy_Sales_Channel_51.0', 'Policy_Sales_Channel_52.0', 'Policy_Sales_Channel_53.0', 'Policy_Sales_Channel_54.0', 'Policy_Sales_Channel_55.0', 'Policy_Sales_Channel_56.0', 'Policy_Sales_Channel_57.0', 'Policy_Sales_Channel_58.0', 'Policy_Sales_Channel_59.0', 'Policy_Sales_Channel_6.0', 'Policy_Sales_Channel_60.0', 'Policy_Sales_Channel_61.0', 'Policy_Sales_Channel_62.0', 'Policy_Sales_Channel_63.0', 'Policy_Sales_Channel_64.0', 'Policy_Sales_Channel_65.0', 'Policy_Sales_Channel_66.0', 'Policy_Sales_Channel_67.0', 'Policy_Sales_Channel_68.0', 'Policy_Sales_Channel_69.0', 'Policy_Sales_Channel_7.0', 'Policy_Sales_Channel_70.0', 'Policy_Sales_Channel_71.0', 'Policy_Sales_Channel_73.0', 'Policy_Sales_Channel_74.0', 'Policy_Sales_Channel_75.0', 'Policy_Sales_Channel_76.0', 'Policy_Sales_Channel_78.0', 'Policy_Sales_Channel_79.0', 'Policy_Sales_Channel_8.0', 'Policy_Sales_Channel_80.0', 'Policy_Sales_Channel_81.0', 'Policy_Sales_Channel_82.0', 'Policy_Sales_Channel_83.0', 'Policy_Sales_Channel_86.0', 'Policy_Sales_Channel_87.0', 'Policy_Sales_Channel_88.0', 'Policy_Sales_Channel_89.0', 'Policy_Sales_Channel_9.0', 'Policy_Sales_Channel_90.0', 'Policy_Sales_Channel_91.0', 'Policy_Sales_Channel_92.0', 'Policy_Sales_Channel_93.0', 'Policy_Sales_Channel_94.0', 'Policy_Sales_Channel_95.0', 'Policy_Sales_Channel_96.0', 'Policy_Sales_Channel_97.0', 'Policy_Sales_Channel_98.0', 'Policy_Sales_Channel_99.0', 'Vintage_new']\n",
      "shape: (11_504_798, 214)\n",
      "┌───────────┬───────────┬───────────┬───────────┬───┬───────────┬───────────┬───────────┬──────────┐\n",
      "│ Gender_ne ┆ Age_new   ┆ Driving_L ┆ Region_Co ┆ … ┆ Policy_Sa ┆ Policy_Sa ┆ Policy_Sa ┆ Vintage_ │\n",
      "│ w         ┆ ---       ┆ icense_ne ┆ de_0.0    ┆   ┆ les_Chann ┆ les_Chann ┆ les_Chann ┆ new      │\n",
      "│ ---       ┆ f32       ┆ w         ┆ ---       ┆   ┆ el_97.0   ┆ el_98.0   ┆ el_99.0   ┆ ---      │\n",
      "│ f32       ┆           ┆ ---       ┆ f32       ┆   ┆ ---       ┆ ---       ┆ ---       ┆ f32      │\n",
      "│           ┆           ┆ f32       ┆           ┆   ┆ f32       ┆ f32       ┆ f32       ┆          │\n",
      "╞═══════════╪═══════════╪═══════════╪═══════════╪═══╪═══════════╪═══════════╪═══════════╪══════════╡\n",
      "│ 0.0       ┆ -1.15941  ┆ 1.0       ┆ 0.0       ┆ … ┆ 0.0       ┆ 0.0       ┆ 0.0       ┆ 0.288852 │\n",
      "│ 0.0       ┆ 0.307897  ┆ 1.0       ┆ 0.0       ┆ … ┆ 0.0       ┆ 0.0       ┆ 0.0       ┆ 1.551675 │\n",
      "│ 1.0       ┆ -0.892627 ┆ 1.0       ┆ 0.0       ┆ … ┆ 0.0       ┆ 0.0       ┆ 0.0       ┆ 1.126566 │\n",
      "│ 1.0       ┆ -0.225669 ┆ 1.0       ┆ 0.0       ┆ … ┆ 0.0       ┆ 0.0       ┆ 0.0       ┆ -1.09900 │\n",
      "│           ┆           ┆           ┆           ┆   ┆           ┆           ┆           ┆ 3        │\n",
      "│ 1.0       ┆ -0.158974 ┆ 1.0       ┆ 0.0       ┆ … ┆ 0.0       ┆ 0.0       ┆ 0.0       ┆ 1.626694 │\n",
      "│ …         ┆ …         ┆ …         ┆ …         ┆ … ┆ …         ┆ …         ┆ …         ┆ …        │\n",
      "│ 0.0       ┆ 0.641375  ┆ 1.0       ┆ 0.0       ┆ … ┆ 0.0       ┆ 0.0       ┆ 0.0       ┆ 0.676451 │\n",
      "│ 1.0       ┆ -0.825931 ┆ 1.0       ┆ 0.0       ┆ … ┆ 0.0       ┆ 0.0       ┆ 0.0       ┆ -0.61137 │\n",
      "│           ┆           ┆           ┆           ┆   ┆           ┆           ┆           ┆ 8        │\n",
      "│ 1.0       ┆ -0.625844 ┆ 1.0       ┆ 0.0       ┆ … ┆ 0.0       ┆ 0.0       ┆ 0.0       ┆ 0.313859 │\n",
      "│ 1.0       ┆ 0.841463  ┆ 1.0       ┆ 0.0       ┆ … ┆ 0.0       ┆ 0.0       ┆ 0.0       ┆ 1.37663  │\n",
      "│ 0.0       ┆ -0.892627 ┆ 1.0       ┆ 0.0       ┆ … ┆ 0.0       ┆ 0.0       ┆ 0.0       ┆ 0.313859 │\n",
      "└───────────┴───────────┴───────────┴───────────┴───┴───────────┴───────────┴───────────┴──────────┘\n",
      "shape: (11_504_798,)\n",
      "Series: 'Response' [i64]\n",
      "[\n",
      "\t0\n",
      "\t1\n",
      "\t0\n",
      "\t0\n",
      "\t0\n",
      "\t…\n",
      "\t0\n",
      "\t1\n",
      "\t0\n",
      "\t1\n",
      "\t0\n",
      "]\n"
     ]
    }
   ],
   "source": [
    "train_X = format_df(df)\n",
    "train_y = df[\"Response\"]\n",
    "\n",
    "print(train_X)\n",
    "print(train_y)"
   ]
  },
  {
   "cell_type": "code",
   "execution_count": 19,
   "metadata": {},
   "outputs": [],
   "source": [
    "n = train_y.shape[0]\n",
    "split = int(n * .6 // 1)\n",
    "\n",
    "# validation_X = train_X[split:].to_pandas()\n",
    "train_X = train_X[:split].to_pandas()\n",
    "\n",
    "# validation_y = train_y[split:].to_pandas()\n",
    "train_y = train_y[:split].to_pandas()\n"
   ]
  },
  {
   "cell_type": "code",
   "execution_count": 31,
   "metadata": {},
   "outputs": [
    {
     "data": {
      "text/plain": [
       "<xgboost.core.Booster at 0x1ff9fa23410>"
      ]
     },
     "execution_count": 31,
     "metadata": {},
     "output_type": "execute_result"
    }
   ],
   "source": [
    "import xgboost\n",
    "\n",
    "xg_params = {}\n",
    "xg_params[\"device\"] = \"cuda\"\n",
    "xg_params[\"tree_method\"] = \"hist\"\n",
    "\n",
    "# evals = xgboost.DMatrix(validation_X, label = validation_y)\n",
    "model = xgboost.QuantileDMatrix(train_X, train_y)\n",
    "xgboost.train(xg_params, model)"
   ]
  },
  {
   "cell_type": "code",
   "execution_count": 33,
   "metadata": {},
   "outputs": [
    {
     "ename": "AttributeError",
     "evalue": "'QuantileDMatrix' object has no attribute 'attributes'",
     "output_type": "error",
     "traceback": [
      "\u001b[1;31m---------------------------------------------------------------------------\u001b[0m",
      "\u001b[1;31mAttributeError\u001b[0m                            Traceback (most recent call last)",
      "Cell \u001b[1;32mIn[33], line 1\u001b[0m\n\u001b[1;32m----> 1\u001b[0m \u001b[38;5;28mprint\u001b[39m(\u001b[43mmodel\u001b[49m\u001b[38;5;241;43m.\u001b[39;49m\u001b[43mattributes\u001b[49m())\n",
      "\u001b[1;31mAttributeError\u001b[0m: 'QuantileDMatrix' object has no attribute 'attributes'"
     ]
    }
   ],
   "source": [
    "print(model.attributes())"
   ]
  }
 ],
 "metadata": {
  "kernelspec": {
   "display_name": "Python 3",
   "language": "python",
   "name": "python3"
  },
  "language_info": {
   "codemirror_mode": {
    "name": "ipython",
    "version": 3
   },
   "file_extension": ".py",
   "mimetype": "text/x-python",
   "name": "python",
   "nbconvert_exporter": "python",
   "pygments_lexer": "ipython3",
   "version": "3.12.4"
  }
 },
 "nbformat": 4,
 "nbformat_minor": 2
}
