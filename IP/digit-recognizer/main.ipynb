{
 "cells": [
  {
   "cell_type": "markdown",
   "metadata": {},
   "source": [
    "# Digit Recognizer"
   ]
  },
  {
   "cell_type": "markdown",
   "metadata": {},
   "source": [
    "First, we'll read in our training data"
   ]
  },
  {
   "cell_type": "code",
   "execution_count": 33,
   "metadata": {},
   "outputs": [],
   "source": [
    "import pandas as pd\n",
    "import numpy as np\n",
    "\n",
    "data = pd.read_csv(\"train.csv\")\n",
    "labels = data[\"label\"]\n",
    "\n",
    "data = data.drop(\"label\", axis=1)\n",
    "data = data.to_numpy(dtype=int)\n",
    "\n",
    "n_pixels = data.shape[1]\n",
    "n_points = data.shape[0]"
   ]
  },
  {
   "cell_type": "markdown",
   "metadata": {},
   "source": [
    "Let's get the dimensions of our data and then turn them into tensors"
   ]
  },
  {
   "cell_type": "code",
   "execution_count": 34,
   "metadata": {},
   "outputs": [],
   "source": [
    "from torch import cuda\n",
    "from torch import Tensor, FloatTensor, IntTensor\n",
    "\n",
    "device = \"cuda\" if cuda.is_available() else \"cpu\"\n",
    "\n",
    "l = int(sqrt(n_pixels))\n",
    "image_tensor = FloatTensor(data).reshape([n_points, 1, l, l]).to(device)\n",
    "labels_tensor = IntTensor(labels).reshape([n_points]).to(device)"
   ]
  },
  {
   "cell_type": "markdown",
   "metadata": {},
   "source": [
    "Now, we'll define our NN"
   ]
  },
  {
   "cell_type": "code",
   "execution_count": 35,
   "metadata": {},
   "outputs": [],
   "source": [
    "from torch.nn import *\n",
    "from torch.optim import Adam, Optimizer\n",
    "from math import sqrt, ceil\n",
    "from torch import zeros\n",
    "\n",
    "class DigitRecognizer(Module):\n",
    "    \"\"\"Class for neural network on MNIST dataset\n",
    "    \n",
    "    Takes in optimizer class and loss_function as parameters, and keyword args apply to the optimizer\n",
    "    \"\"\"\n",
    "\n",
    "    def __init__(self, optimizer: Optimizer = Adam, loss_func: modules.loss._Loss = CrossEntropyLoss(), **kwargs):\n",
    "        super().__init__()\n",
    "        self.layers = Sequential(\n",
    "            Conv2d(in_channels=1, out_channels=1, kernel_size=2),\n",
    "            Flatten(),\n",
    "            Linear(in_features=729, out_features=100),\n",
    "            ReLU(),\n",
    "            Linear(in_features=100, out_features=100),\n",
    "            ReLU(),\n",
    "            Linear(100, 50),\n",
    "            ReLU(),\n",
    "            Linear(50, 10)\n",
    "        )\n",
    "\n",
    "        self.loss_func: modules.loss._Loss = loss_func\n",
    "        self.optimizer: Optimizer          = optimizer(params = self.parameters(), **kwargs)\n",
    "\n",
    "    def forward(self, x):\n",
    "        return self.layers(x)\n",
    "    \n",
    "    def fit(self, X, y, epochs: int = 1000, batch_size: int = 1, wait: bool = False, print_intervals = 1000):\n",
    "        \"\"\"Fits the digit recognizer to X (of shape [n_samples, 1, width, height])\"\"\"\n",
    "\n",
    "        n_samples = X.shape[0]\n",
    "\n",
    "        losses = []\n",
    "        for t in range(epochs):\n",
    "            self.optimizer.zero_grad()\n",
    "\n",
    "            sum_batch_error = 0\n",
    "            for b in range(0, ceil(n_samples / batch_size)):\n",
    "                # get batch of batch_size, or smaller if at the end of the training data\n",
    "                batch = X[b * batch_size : \\\n",
    "                          min(n_samples, (b + 1) * batch_size)]\n",
    "                labels = y[b * batch_size : \\\n",
    "                          min(n_samples, (b + 1) * batch_size)]\n",
    "                \n",
    "                curr_size = labels.shape[0]\n",
    "\n",
    "                # make target label vector\n",
    "                labels_dummies = zeros(curr_size, 10).to(device=device)\n",
    "                for i in range(curr_size): labels_dummies[i, labels[i]] = 1\n",
    "                \n",
    "                forward = self.forward(batch)\n",
    "                \n",
    "                loss = self.loss_func(input = forward, target = labels_dummies)\n",
    "\n",
    "                sum_batch_error += loss.sum()\n",
    "\n",
    "                loss.backward()\n",
    "\n",
    "                if not wait:\n",
    "                    self.optimizer.step()\n",
    "                    self.optimizer.zero_grad()\n",
    "                \n",
    "                if (b+1) % print_intervals == 0:\n",
    "                    ave = sum_batch_error / (batch_size * print_intervals)\n",
    "                    print(f\"Loss at {t+1:<2}.{b+1:<10}: {ave}\")\n",
    "\n",
    "                    losses.append(ave)\n",
    "                    sum_batch_error = 0\n",
    "            \n",
    "            if wait:\n",
    "                self.optimizer.step()\n",
    "                self.optimizer.zero_grad()\n",
    "        \n",
    "        return losses"
   ]
  },
  {
   "cell_type": "markdown",
   "metadata": {},
   "source": [
    "Train it..."
   ]
  },
  {
   "cell_type": "code",
   "execution_count": 36,
   "metadata": {},
   "outputs": [
    {
     "name": "stdout",
     "output_type": "stream",
     "text": [
      "Loss at 1 .1000      : 0.11900069564580917\n",
      "Loss at 1 .2000      : 0.07129210233688354\n",
      "Loss at 1 .3000      : 0.06065277010202408\n",
      "Loss at 1 .4000      : 0.053688663989305496\n",
      "Loss at 1 .5000      : 0.049616359174251556\n",
      "Loss at 1 .6000      : 0.050248220562934875\n",
      "Loss at 1 .7000      : 0.04382048919796944\n",
      "Loss at 1 .8000      : 0.039389707148075104\n",
      "Loss at 2 .1000      : 0.03762508183717728\n",
      "Loss at 2 .2000      : 0.037845008075237274\n",
      "Loss at 2 .3000      : 0.03627718612551689\n",
      "Loss at 2 .4000      : 0.03424175828695297\n",
      "Loss at 2 .5000      : 0.03367184102535248\n",
      "Loss at 2 .6000      : 0.03283407539129257\n",
      "Loss at 2 .7000      : 0.02682887762784958\n",
      "Loss at 2 .8000      : 0.029174761846661568\n",
      "Loss at 3 .1000      : 0.02591365948319435\n",
      "Loss at 3 .2000      : 0.029946450144052505\n",
      "Loss at 3 .3000      : 0.026310943067073822\n",
      "Loss at 3 .4000      : 0.025343623012304306\n",
      "Loss at 3 .5000      : 0.02653815783560276\n",
      "Loss at 3 .6000      : 0.026577383279800415\n",
      "Loss at 3 .7000      : 0.022034883499145508\n",
      "Loss at 3 .8000      : 0.024327870458364487\n",
      "Loss at 4 .1000      : 0.021658189594745636\n",
      "Loss at 4 .2000      : 0.023805484175682068\n",
      "Loss at 4 .3000      : 0.0197796281427145\n",
      "Loss at 4 .4000      : 0.02074546553194523\n",
      "Loss at 4 .5000      : 0.02133847214281559\n",
      "Loss at 4 .6000      : 0.02328702062368393\n",
      "Loss at 4 .7000      : 0.015761874616146088\n",
      "Loss at 4 .8000      : 0.021977100521326065\n",
      "Loss at 5 .1000      : 0.02297724038362503\n",
      "Loss at 5 .2000      : 0.02167103812098503\n",
      "Loss at 5 .3000      : 0.021870506927371025\n",
      "Loss at 5 .4000      : 0.018162626773118973\n",
      "Loss at 5 .5000      : 0.01853974536061287\n",
      "Loss at 5 .6000      : 0.026501711457967758\n",
      "Loss at 5 .7000      : 0.01327606476843357\n",
      "Loss at 5 .8000      : 0.014560145325958729\n",
      "Loss at 6 .1000      : 0.01642005518078804\n",
      "Loss at 6 .2000      : 0.021746404469013214\n",
      "Loss at 6 .3000      : 0.015085650607943535\n",
      "Loss at 6 .4000      : 0.021661067381501198\n",
      "Loss at 6 .5000      : 0.01790827512741089\n",
      "Loss at 6 .6000      : 0.021199945360422134\n",
      "Loss at 6 .7000      : 0.016485456377267838\n",
      "Loss at 6 .8000      : 0.01418454572558403\n",
      "Loss at 7 .1000      : 0.01753789186477661\n",
      "Loss at 7 .2000      : 0.01902780495584011\n",
      "Loss at 7 .3000      : 0.02195895090699196\n",
      "Loss at 7 .4000      : 0.018573736771941185\n",
      "Loss at 7 .5000      : 0.016712553799152374\n",
      "Loss at 7 .6000      : 0.015815259888768196\n",
      "Loss at 7 .7000      : 0.019826779142022133\n",
      "Loss at 7 .8000      : 0.012293685227632523\n",
      "Loss at 8 .1000      : 0.015011240728199482\n",
      "Loss at 8 .2000      : 0.019558662548661232\n",
      "Loss at 8 .3000      : 0.01780465990304947\n",
      "Loss at 8 .4000      : 0.01490841619670391\n",
      "Loss at 8 .5000      : 0.01817435957491398\n",
      "Loss at 8 .6000      : 0.0162013228982687\n",
      "Loss at 8 .7000      : 0.014726727269589901\n",
      "Loss at 8 .8000      : 0.01435087900608778\n",
      "Loss at 9 .1000      : 0.016367364674806595\n",
      "Loss at 9 .2000      : 0.015615490265190601\n",
      "Loss at 9 .3000      : 0.016872845590114594\n",
      "Loss at 9 .4000      : 0.01630771905183792\n",
      "Loss at 9 .5000      : 0.01652298867702484\n",
      "Loss at 9 .6000      : 0.014270897954702377\n",
      "Loss at 9 .7000      : 0.02143876627087593\n",
      "Loss at 9 .8000      : 0.011500472202897072\n",
      "Loss at 10.1000      : 0.019517917186021805\n",
      "Loss at 10.2000      : 0.018216855823993683\n",
      "Loss at 10.3000      : 0.014022973366081715\n",
      "Loss at 10.4000      : 0.013984600082039833\n",
      "Loss at 10.5000      : 0.023431705310940742\n",
      "Loss at 10.6000      : 0.013360437005758286\n",
      "Loss at 10.7000      : 0.014784838072955608\n",
      "Loss at 10.8000      : 0.012796701863408089\n"
     ]
    }
   ],
   "source": [
    "batch_size = 5\n",
    "epochs = 10\n",
    "print_interval = 1000\n",
    "\n",
    "model = DigitRecognizer().to(device=device)\n",
    "losses = model.fit(image_tensor, labels_tensor, epochs=epochs, batch_size=batch_size, print_intervals=print_interval)"
   ]
  },
  {
   "cell_type": "markdown",
   "metadata": {},
   "source": [
    "Let's see the overall accuracy on the data..."
   ]
  },
  {
   "cell_type": "code",
   "execution_count": 37,
   "metadata": {},
   "outputs": [
    {
     "name": "stderr",
     "output_type": "stream",
     "text": [
      "c:\\Users\\Tony Zheng\\.conda\\envs\\Competitions\\Lib\\site-packages\\torch\\nn\\modules\\module.py:1532: UserWarning: Implicit dimension choice for softmax has been deprecated. Change the call to include dim=X as an argument.\n",
      "  return self._call_impl(*args, **kwargs)\n"
     ]
    },
    {
     "data": {
      "text/plain": [
       "0.982952356338501"
      ]
     },
     "execution_count": 37,
     "metadata": {},
     "output_type": "execute_result"
    }
   ],
   "source": [
    "from torch import argmax\n",
    "outputs = Softmax()(model.forward(image_tensor))\n",
    "acc = ((argmax(outputs, dim=1) == labels_tensor).sum() / n_points).item()\n",
    "acc"
   ]
  },
  {
   "cell_type": "markdown",
   "metadata": {},
   "source": [
    "And let's see how loss changed over time..."
   ]
  },
  {
   "cell_type": "code",
   "execution_count": 38,
   "metadata": {},
   "outputs": [
    {
     "data": {
      "image/png": "[encoded data removed]",
      "text/plain": [
       "<Figure size 500x500 with 1 Axes>"
      ]
     },
     "metadata": {},
     "output_type": "display_data"
    }
   ],
   "source": [
    "import seaborn as sns\n",
    "\n",
    "non_tensor_losses = [0] * len(losses)\n",
    "for i in range(len(losses)): non_tensor_losses[i] = losses[i].item()\n",
    "\n",
    "data = pd.DataFrame(data=non_tensor_losses, columns=[\"Batch Loss\"])\n",
    "data[\"Batch\"] = [i + 1 for i in range(data.shape[0])]\n",
    "\n",
    "grid = sns.relplot(data=data, x='Batch', y='Batch Loss', kind=\"line\")\n",
    "for ax in grid.axes.flat:\n",
    "    for i in range(epochs):\n",
    "        ax.axvline(x = (i + 1) * n_points / (batch_size * print_interval))"
   ]
  },
  {
   "cell_type": "code",
   "execution_count": 39,
   "metadata": {},
   "outputs": [
    {
     "name": "stderr",
     "output_type": "stream",
     "text": [
      "c:\\Users\\Tony Zheng\\.conda\\envs\\Competitions\\Lib\\site-packages\\torch\\nn\\modules\\module.py:1532: UserWarning: Implicit dimension choice for softmax has been deprecated. Change the call to include dim=X as an argument.\n",
      "  return self._call_impl(*args, **kwargs)\n"
     ]
    },
    {
     "data": {
      "text/plain": [
       "tensor([2, 0, 9,  ..., 3, 9, 2], device='cuda:0')"
      ]
     },
     "execution_count": 39,
     "metadata": {},
     "output_type": "execute_result"
    }
   ],
   "source": [
    "test_data = pd.read_csv(\"test.csv\")\n",
    "test_n_points = test_data.shape[0]\n",
    "test_image_tensor = FloatTensor(test_data.to_numpy(dtype=int)).reshape([test_n_points, 1, l, l]).to(device)\n",
    "\n",
    "test_outputs = Softmax()(model.forward(test_image_tensor))\n",
    "out_labels = argmax(test_outputs, dim=1)\n",
    "out_labels"
   ]
  },
  {
   "cell_type": "code",
   "execution_count": 40,
   "metadata": {},
   "outputs": [],
   "source": [
    "df = pd.DataFrame(out_labels.cpu().numpy())\n",
    "df.index += 1\n",
    "df.to_csv(\"submission.csv\", index_label=\"ImageId\", header=[\"Label\"])"
   ]
  }
 ],
 "metadata": {
  "kernelspec": {
   "display_name": "Competitions",
   "language": "python",
   "name": "python3"
  },
  "language_info": {
   "codemirror_mode": {
    "name": "ipython",
    "version": 3
   },
   "file_extension": ".py",
   "mimetype": "text/x-python",
   "name": "python",
   "nbconvert_exporter": "python",
   "pygments_lexer": "ipython3",
   "version": "3.12.4"
  }
 },
 "nbformat": 4,
 "nbformat_minor": 2
}
