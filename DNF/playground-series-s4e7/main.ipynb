{
 "cells": [
  {
   "cell_type": "markdown",
   "metadata": {},
   "source": [
    "# Binary Classification of Insurance Cross Selling "
   ]
  },
  {
   "cell_type": "code",
   "execution_count": 1,
   "metadata": {},
   "outputs": [
    {
     "name": "stdout",
     "output_type": "stream",
     "text": [
      "NVIDIA GeForce GTX 1650 SUPER\n"
     ]
    }
   ],
   "source": [
    "import polars as pl\n",
    "import torch\n",
    "\n",
    "device = \"cuda\" if torch.cuda.is_available else \"cpu\"\n",
    "torch.set_default_device(device)\n",
    "print(torch.cuda.get_device_name(torch.cuda.current_device()))"
   ]
  },
  {
   "cell_type": "markdown",
   "metadata": {},
   "source": [
    "## Data Formatting"
   ]
  },
  {
   "cell_type": "code",
   "execution_count": 2,
   "metadata": {},
   "outputs": [],
   "source": [
    "df = pl.read_csv(\"train.csv\")"
   ]
  },
  {
   "cell_type": "code",
   "execution_count": 3,
   "metadata": {},
   "outputs": [
    {
     "data": {
      "text/html": [
       "<div><style>\n",
       ".dataframe > thead > tr,\n",
       ".dataframe > tbody > tr {\n",
       "  text-align: right;\n",
       "  white-space: pre-wrap;\n",
       "}\n",
       "</style>\n",
       "<small>shape: (5, 12)</small><table border=\"1\" class=\"dataframe\"><thead><tr><th>id</th><th>Gender</th><th>Age</th><th>Driving_License</th><th>Region_Code</th><th>Previously_Insured</th><th>Vehicle_Age</th><th>Vehicle_Damage</th><th>Annual_Premium</th><th>Policy_Sales_Channel</th><th>Vintage</th><th>Response</th></tr><tr><td>i64</td><td>str</td><td>i64</td><td>i64</td><td>f64</td><td>i64</td><td>str</td><td>str</td><td>f64</td><td>f64</td><td>i64</td><td>i64</td></tr></thead><tbody><tr><td>0</td><td>&quot;Male&quot;</td><td>21</td><td>1</td><td>35.0</td><td>0</td><td>&quot;1-2 Year&quot;</td><td>&quot;Yes&quot;</td><td>65101.0</td><td>124.0</td><td>187</td><td>0</td></tr><tr><td>1</td><td>&quot;Male&quot;</td><td>43</td><td>1</td><td>28.0</td><td>0</td><td>&quot;&gt; 2 Years&quot;</td><td>&quot;Yes&quot;</td><td>58911.0</td><td>26.0</td><td>288</td><td>1</td></tr><tr><td>2</td><td>&quot;Female&quot;</td><td>25</td><td>1</td><td>14.0</td><td>1</td><td>&quot;&lt; 1 Year&quot;</td><td>&quot;No&quot;</td><td>38043.0</td><td>152.0</td><td>254</td><td>0</td></tr><tr><td>3</td><td>&quot;Female&quot;</td><td>35</td><td>1</td><td>1.0</td><td>0</td><td>&quot;1-2 Year&quot;</td><td>&quot;Yes&quot;</td><td>2630.0</td><td>156.0</td><td>76</td><td>0</td></tr><tr><td>4</td><td>&quot;Female&quot;</td><td>36</td><td>1</td><td>15.0</td><td>1</td><td>&quot;1-2 Year&quot;</td><td>&quot;No&quot;</td><td>31951.0</td><td>152.0</td><td>294</td><td>0</td></tr></tbody></table></div>"
      ],
      "text/plain": [
       "shape: (5, 12)\n",
       "┌─────┬────────┬─────┬─────────────────┬───┬────────────────┬─────────────────┬─────────┬──────────┐\n",
       "│ id  ┆ Gender ┆ Age ┆ Driving_License ┆ … ┆ Annual_Premium ┆ Policy_Sales_Ch ┆ Vintage ┆ Response │\n",
       "│ --- ┆ ---    ┆ --- ┆ ---             ┆   ┆ ---            ┆ annel           ┆ ---     ┆ ---      │\n",
       "│ i64 ┆ str    ┆ i64 ┆ i64             ┆   ┆ f64            ┆ ---             ┆ i64     ┆ i64      │\n",
       "│     ┆        ┆     ┆                 ┆   ┆                ┆ f64             ┆         ┆          │\n",
       "╞═════╪════════╪═════╪═════════════════╪═══╪════════════════╪═════════════════╪═════════╪══════════╡\n",
       "│ 0   ┆ Male   ┆ 21  ┆ 1               ┆ … ┆ 65101.0        ┆ 124.0           ┆ 187     ┆ 0        │\n",
       "│ 1   ┆ Male   ┆ 43  ┆ 1               ┆ … ┆ 58911.0        ┆ 26.0            ┆ 288     ┆ 1        │\n",
       "│ 2   ┆ Female ┆ 25  ┆ 1               ┆ … ┆ 38043.0        ┆ 152.0           ┆ 254     ┆ 0        │\n",
       "│ 3   ┆ Female ┆ 35  ┆ 1               ┆ … ┆ 2630.0         ┆ 156.0           ┆ 76      ┆ 0        │\n",
       "│ 4   ┆ Female ┆ 36  ┆ 1               ┆ … ┆ 31951.0        ┆ 152.0           ┆ 294     ┆ 0        │\n",
       "└─────┴────────┴─────┴─────────────────┴───┴────────────────┴─────────────────┴─────────┴──────────┘"
      ]
     },
     "execution_count": 3,
     "metadata": {},
     "output_type": "execute_result"
    }
   ],
   "source": [
    "df.head()"
   ]
  },
  {
   "cell_type": "markdown",
   "metadata": {},
   "source": [
    "### Fields that are fine as is\n",
    "We'll just have them return themselves\n"
   ]
  },
  {
   "cell_type": "code",
   "execution_count": 4,
   "metadata": {},
   "outputs": [],
   "source": [
    "def identity(col) -> pl.Series: return col"
   ]
  },
  {
   "cell_type": "markdown",
   "metadata": {},
   "source": [
    "### Functions for values that need to be converted to binary/ternary values: <ul>\n",
    "<li>Gender</li>\n",
    "<li>Vehicle Age</li>\n",
    "<li>Vehicle Damage</li>\n",
    "</ul>"
   ]
  },
  {
   "cell_type": "code",
   "execution_count": 5,
   "metadata": {},
   "outputs": [],
   "source": [
    "def make_gender_binary(col: pl.Series) -> pl.Series:\n",
    "    return col.replace({\n",
    "        \"Male\": 0,\n",
    "        \"Female\": 1\n",
    "    })"
   ]
  },
  {
   "cell_type": "code",
   "execution_count": 6,
   "metadata": {},
   "outputs": [],
   "source": [
    "def string_age_to_int(age):\n",
    "    if age == \"> 2 Years\": return 2\n",
    "    \n",
    "    elif age == \"1-2 Year\": return 1\n",
    "\n",
    "    else: return 0\n",
    "\n",
    "def make_vehicle_age_binary(col: pl.Series) -> pl.Series:\n",
    "    return col.replace({\n",
    "        \"> 2 Years\": 2,\n",
    "        \"1-2 Year\": 1,\n",
    "        \"< 1 Year\": 0\n",
    "    })"
   ]
  },
  {
   "cell_type": "code",
   "execution_count": 7,
   "metadata": {},
   "outputs": [],
   "source": [
    "def make_vehicle_damage_binary(col: pl.Series) -> pl.Series:\n",
    "    return col.replace({\n",
    "        \"Yes\": 1,\n",
    "        \"No\": 0\n",
    "    })"
   ]
  },
  {
   "cell_type": "markdown",
   "metadata": {},
   "source": [
    "### Standardizing Numerical Cols\n",
    "To be standardized:\n",
    "<ul>\n",
    "<li>Age</li>\n",
    "<li>Annual Premium</li>\n",
    "<li>Vintage</li>\n",
    "</ul>"
   ]
  },
  {
   "cell_type": "code",
   "execution_count": 8,
   "metadata": {},
   "outputs": [],
   "source": [
    "def standardize(col: pl.Series) -> pl.Series:\n",
    "    return (col - col.mean()) / col.std()"
   ]
  },
  {
   "cell_type": "markdown",
   "metadata": {},
   "source": [
    "### Numeric Values Without Ordering\n",
    "<i>i.e. the columns that are numbers, but don't have any intrinsic meaning to those numbers </i>\n",
    "<ul>\n",
    "<li>Region Code</li>\n",
    "<li>Sales Channel</li>\n",
    "</ul>"
   ]
  },
  {
   "cell_type": "code",
   "execution_count": 9,
   "metadata": {},
   "outputs": [],
   "source": [
    "def non_ordered_numeric_values(col: pl.Series, reasonable_arg_count = 20) -> pl.DataFrame:\n",
    "    return col.to_dummies()"
   ]
  },
  {
   "cell_type": "markdown",
   "metadata": {},
   "source": [
    "### Formatting It All\n",
    "(Gender,\tAge,\tDriving_License,\tRegion_Code,\tPreviously_Insured,\tVehicle_Age,\tVehicle_Damage,\tAnnual_Premium,\tPolicy_Sales_Channel,\tVintage\tResponse)"
   ]
  },
  {
   "cell_type": "code",
   "execution_count": 10,
   "metadata": {},
   "outputs": [],
   "source": [
    "default_features = {\n",
    "    \"Gender\": make_gender_binary,\n",
    "    \"Age\": standardize,\n",
    "    \"Driving_License\": identity,\n",
    "    \"Region_Code\": \"dummies\",\n",
    "    \"Previously_Insured\": identity,\n",
    "    \"Vehicle_Age\": make_vehicle_age_binary,\n",
    "    \"Vehicle_Damage\": make_vehicle_damage_binary,\n",
    "    \"Annual_Premium\": standardize,\n",
    "    \"Policy_Sales_Channel\": \"dummies\",\n",
    "    \"Vintage\": standardize\n",
    "}\n",
    "\n",
    "def format_df(df: pl.DataFrame, features: dict = default_features) -> pl.DataFrame:\n",
    "    df_copy = df.__copy__()\n",
    "\n",
    "    offset = 0\n",
    "    n = len(df.columns)\n",
    "    for i in range(n):\n",
    "        col = df.columns[i]\n",
    "\n",
    "        if col in features.keys():\n",
    "            if features[col] == \"dummies\":\n",
    "                df_copy = df_copy.to_dummies(col)\n",
    "                offset = len(df_copy.columns) - n\n",
    "            else: \n",
    "                replace: pl.Series = features[col](df[col])\n",
    "                replace = replace.rename(replace.name + \"_new\")\n",
    "                df_copy = df_copy.replace_column(i + offset, replace)\n",
    "    \n",
    "    for non_used in set(df.columns) - set(features.keys()):\n",
    "        df_copy = df_copy.drop(non_used)\n",
    "    print(df_copy.columns)\n",
    "    df_copy = df_copy.cast(pl.Float64)\n",
    "    return df_copy"
   ]
  },
  {
   "cell_type": "markdown",
   "metadata": {},
   "source": [
    "## Making The Model"
   ]
  },
  {
   "cell_type": "code",
   "execution_count": 11,
   "metadata": {},
   "outputs": [
    {
     "name": "stdout",
     "output_type": "stream",
     "text": [
      "['Gender_new', 'Age_new', 'Driving_License_new', 'Region_Code_0.0', 'Region_Code_1.0', 'Region_Code_10.0', 'Region_Code_11.0', 'Region_Code_12.0', 'Region_Code_13.0', 'Region_Code_14.0', 'Region_Code_15.0', 'Region_Code_16.0', 'Region_Code_17.0', 'Region_Code_18.0', 'Region_Code_19.0', 'Region_Code_2.0', 'Region_Code_20.0', 'Region_Code_21.0', 'Region_Code_22.0', 'Region_Code_23.0', 'Region_Code_24.0', 'Region_Code_25.0', 'Region_Code_26.0', 'Region_Code_27.0', 'Region_Code_28.0', 'Region_Code_29.0', 'Region_Code_3.0', 'Region_Code_30.0', 'Region_Code_31.0', 'Region_Code_32.0', 'Region_Code_33.0', 'Region_Code_34.0', 'Region_Code_35.0', 'Region_Code_36.0', 'Region_Code_37.0', 'Region_Code_38.0', 'Region_Code_39.0', 'Region_Code_39.2', 'Region_Code_4.0', 'Region_Code_40.0', 'Region_Code_41.0', 'Region_Code_42.0', 'Region_Code_43.0', 'Region_Code_44.0', 'Region_Code_45.0', 'Region_Code_46.0', 'Region_Code_47.0', 'Region_Code_48.0', 'Region_Code_49.0', 'Region_Code_5.0', 'Region_Code_50.0', 'Region_Code_51.0', 'Region_Code_52.0', 'Region_Code_6.0', 'Region_Code_7.0', 'Region_Code_8.0', 'Region_Code_9.0', 'Previously_Insured_new', 'Vehicle_Age_new', 'Vehicle_Damage_new', 'Annual_Premium_new', 'Policy_Sales_Channel_1.0', 'Policy_Sales_Channel_10.0', 'Policy_Sales_Channel_100.0', 'Policy_Sales_Channel_101.0', 'Policy_Sales_Channel_102.0', 'Policy_Sales_Channel_103.0', 'Policy_Sales_Channel_104.0', 'Policy_Sales_Channel_105.0', 'Policy_Sales_Channel_106.0', 'Policy_Sales_Channel_107.0', 'Policy_Sales_Channel_108.0', 'Policy_Sales_Channel_109.0', 'Policy_Sales_Channel_11.0', 'Policy_Sales_Channel_110.0', 'Policy_Sales_Channel_111.0', 'Policy_Sales_Channel_112.0', 'Policy_Sales_Channel_113.0', 'Policy_Sales_Channel_114.0', 'Policy_Sales_Channel_115.0', 'Policy_Sales_Channel_116.0', 'Policy_Sales_Channel_117.0', 'Policy_Sales_Channel_118.0', 'Policy_Sales_Channel_119.0', 'Policy_Sales_Channel_12.0', 'Policy_Sales_Channel_120.0', 'Policy_Sales_Channel_121.0', 'Policy_Sales_Channel_122.0', 'Policy_Sales_Channel_123.0', 'Policy_Sales_Channel_124.0', 'Policy_Sales_Channel_125.0', 'Policy_Sales_Channel_126.0', 'Policy_Sales_Channel_127.0', 'Policy_Sales_Channel_128.0', 'Policy_Sales_Channel_129.0', 'Policy_Sales_Channel_13.0', 'Policy_Sales_Channel_130.0', 'Policy_Sales_Channel_131.0', 'Policy_Sales_Channel_132.0', 'Policy_Sales_Channel_133.0', 'Policy_Sales_Channel_134.0', 'Policy_Sales_Channel_135.0', 'Policy_Sales_Channel_136.0', 'Policy_Sales_Channel_137.0', 'Policy_Sales_Channel_138.0', 'Policy_Sales_Channel_139.0', 'Policy_Sales_Channel_14.0', 'Policy_Sales_Channel_140.0', 'Policy_Sales_Channel_145.0', 'Policy_Sales_Channel_146.0', 'Policy_Sales_Channel_147.0', 'Policy_Sales_Channel_148.0', 'Policy_Sales_Channel_15.0', 'Policy_Sales_Channel_150.0', 'Policy_Sales_Channel_151.0', 'Policy_Sales_Channel_152.0', 'Policy_Sales_Channel_153.0', 'Policy_Sales_Channel_154.0', 'Policy_Sales_Channel_155.0', 'Policy_Sales_Channel_156.0', 'Policy_Sales_Channel_157.0', 'Policy_Sales_Channel_158.0', 'Policy_Sales_Channel_159.0', 'Policy_Sales_Channel_16.0', 'Policy_Sales_Channel_160.0', 'Policy_Sales_Channel_163.0', 'Policy_Sales_Channel_17.0', 'Policy_Sales_Channel_18.0', 'Policy_Sales_Channel_19.0', 'Policy_Sales_Channel_2.0', 'Policy_Sales_Channel_20.0', 'Policy_Sales_Channel_21.0', 'Policy_Sales_Channel_22.0', 'Policy_Sales_Channel_23.0', 'Policy_Sales_Channel_24.0', 'Policy_Sales_Channel_25.0', 'Policy_Sales_Channel_26.0', 'Policy_Sales_Channel_27.0', 'Policy_Sales_Channel_28.0', 'Policy_Sales_Channel_29.0', 'Policy_Sales_Channel_3.0', 'Policy_Sales_Channel_30.0', 'Policy_Sales_Channel_31.0', 'Policy_Sales_Channel_32.0', 'Policy_Sales_Channel_33.0', 'Policy_Sales_Channel_34.0', 'Policy_Sales_Channel_35.0', 'Policy_Sales_Channel_36.0', 'Policy_Sales_Channel_37.0', 'Policy_Sales_Channel_38.0', 'Policy_Sales_Channel_39.0', 'Policy_Sales_Channel_4.0', 'Policy_Sales_Channel_40.0', 'Policy_Sales_Channel_41.0', 'Policy_Sales_Channel_42.0', 'Policy_Sales_Channel_43.0', 'Policy_Sales_Channel_44.0', 'Policy_Sales_Channel_45.0', 'Policy_Sales_Channel_46.0', 'Policy_Sales_Channel_47.0', 'Policy_Sales_Channel_48.0', 'Policy_Sales_Channel_49.0', 'Policy_Sales_Channel_5.0', 'Policy_Sales_Channel_50.0', 'Policy_Sales_Channel_51.0', 'Policy_Sales_Channel_52.0', 'Policy_Sales_Channel_53.0', 'Policy_Sales_Channel_54.0', 'Policy_Sales_Channel_55.0', 'Policy_Sales_Channel_56.0', 'Policy_Sales_Channel_57.0', 'Policy_Sales_Channel_58.0', 'Policy_Sales_Channel_59.0', 'Policy_Sales_Channel_6.0', 'Policy_Sales_Channel_60.0', 'Policy_Sales_Channel_61.0', 'Policy_Sales_Channel_62.0', 'Policy_Sales_Channel_63.0', 'Policy_Sales_Channel_64.0', 'Policy_Sales_Channel_65.0', 'Policy_Sales_Channel_66.0', 'Policy_Sales_Channel_67.0', 'Policy_Sales_Channel_68.0', 'Policy_Sales_Channel_69.0', 'Policy_Sales_Channel_7.0', 'Policy_Sales_Channel_70.0', 'Policy_Sales_Channel_71.0', 'Policy_Sales_Channel_73.0', 'Policy_Sales_Channel_74.0', 'Policy_Sales_Channel_75.0', 'Policy_Sales_Channel_76.0', 'Policy_Sales_Channel_78.0', 'Policy_Sales_Channel_79.0', 'Policy_Sales_Channel_8.0', 'Policy_Sales_Channel_80.0', 'Policy_Sales_Channel_81.0', 'Policy_Sales_Channel_82.0', 'Policy_Sales_Channel_83.0', 'Policy_Sales_Channel_86.0', 'Policy_Sales_Channel_87.0', 'Policy_Sales_Channel_88.0', 'Policy_Sales_Channel_89.0', 'Policy_Sales_Channel_9.0', 'Policy_Sales_Channel_90.0', 'Policy_Sales_Channel_91.0', 'Policy_Sales_Channel_92.0', 'Policy_Sales_Channel_93.0', 'Policy_Sales_Channel_94.0', 'Policy_Sales_Channel_95.0', 'Policy_Sales_Channel_96.0', 'Policy_Sales_Channel_97.0', 'Policy_Sales_Channel_98.0', 'Policy_Sales_Channel_99.0', 'Vintage_new']\n",
      "shape: (11_504_798, 214)\n",
      "┌───────────┬───────────┬───────────┬───────────┬───┬───────────┬───────────┬───────────┬──────────┐\n",
      "│ Gender_ne ┆ Age_new   ┆ Driving_L ┆ Region_Co ┆ … ┆ Policy_Sa ┆ Policy_Sa ┆ Policy_Sa ┆ Vintage_ │\n",
      "│ w         ┆ ---       ┆ icense_ne ┆ de_0.0    ┆   ┆ les_Chann ┆ les_Chann ┆ les_Chann ┆ new      │\n",
      "│ ---       ┆ f64       ┆ w         ┆ ---       ┆   ┆ el_97.0   ┆ el_98.0   ┆ el_99.0   ┆ ---      │\n",
      "│ f64       ┆           ┆ ---       ┆ f64       ┆   ┆ ---       ┆ ---       ┆ ---       ┆ f64      │\n",
      "│           ┆           ┆ f64       ┆           ┆   ┆ f64       ┆ f64       ┆ f64       ┆          │\n",
      "╞═══════════╪═══════════╪═══════════╪═══════════╪═══╪═══════════╪═══════════╪═══════════╪══════════╡\n",
      "│ 0.0       ┆ -1.15941  ┆ 1.0       ┆ 0.0       ┆ … ┆ 0.0       ┆ 0.0       ┆ 0.0       ┆ 0.288852 │\n",
      "│ 0.0       ┆ 0.307897  ┆ 1.0       ┆ 0.0       ┆ … ┆ 0.0       ┆ 0.0       ┆ 0.0       ┆ 1.551675 │\n",
      "│ 1.0       ┆ -0.892627 ┆ 1.0       ┆ 0.0       ┆ … ┆ 0.0       ┆ 0.0       ┆ 0.0       ┆ 1.126566 │\n",
      "│ 1.0       ┆ -0.225669 ┆ 1.0       ┆ 0.0       ┆ … ┆ 0.0       ┆ 0.0       ┆ 0.0       ┆ -1.09900 │\n",
      "│           ┆           ┆           ┆           ┆   ┆           ┆           ┆           ┆ 3        │\n",
      "│ 1.0       ┆ -0.158974 ┆ 1.0       ┆ 0.0       ┆ … ┆ 0.0       ┆ 0.0       ┆ 0.0       ┆ 1.626694 │\n",
      "│ …         ┆ …         ┆ …         ┆ …         ┆ … ┆ …         ┆ …         ┆ …         ┆ …        │\n",
      "│ 0.0       ┆ 0.641375  ┆ 1.0       ┆ 0.0       ┆ … ┆ 0.0       ┆ 0.0       ┆ 0.0       ┆ 0.676451 │\n",
      "│ 1.0       ┆ -0.825931 ┆ 1.0       ┆ 0.0       ┆ … ┆ 0.0       ┆ 0.0       ┆ 0.0       ┆ -0.61137 │\n",
      "│           ┆           ┆           ┆           ┆   ┆           ┆           ┆           ┆ 8        │\n",
      "│ 1.0       ┆ -0.625844 ┆ 1.0       ┆ 0.0       ┆ … ┆ 0.0       ┆ 0.0       ┆ 0.0       ┆ 0.313859 │\n",
      "│ 1.0       ┆ 0.841463  ┆ 1.0       ┆ 0.0       ┆ … ┆ 0.0       ┆ 0.0       ┆ 0.0       ┆ 1.37663  │\n",
      "│ 0.0       ┆ -0.892627 ┆ 1.0       ┆ 0.0       ┆ … ┆ 0.0       ┆ 0.0       ┆ 0.0       ┆ 0.313859 │\n",
      "└───────────┴───────────┴───────────┴───────────┴───┴───────────┴───────────┴───────────┴──────────┘\n",
      "shape: (11_504_798,)\n",
      "Series: 'Response' [i64]\n",
      "[\n",
      "\t0\n",
      "\t1\n",
      "\t0\n",
      "\t0\n",
      "\t0\n",
      "\t…\n",
      "\t0\n",
      "\t1\n",
      "\t0\n",
      "\t1\n",
      "\t0\n",
      "]\n"
     ]
    }
   ],
   "source": [
    "train_X = format_df(df)\n",
    "train_y = df[\"Response\"]\n",
    "\n",
    "print(train_X)\n",
    "print(train_y)"
   ]
  },
  {
   "cell_type": "markdown",
   "metadata": {},
   "source": [
    "### Layers"
   ]
  },
  {
   "cell_type": "code",
   "execution_count": 12,
   "metadata": {},
   "outputs": [],
   "source": [
    "import torch.nn as nn\n",
    "\n",
    "model = nn.Sequential(\n",
    "    nn.Linear(in_features=len(train_X.columns), out_features=100),\n",
    "    nn.ReLU(),\n",
    "    nn.Linear(100, 50),\n",
    "    nn.ReLU(),\n",
    "    nn.Linear(50, 50),\n",
    "    nn.ReLU(),\n",
    "    nn.Linear(50, 25),\n",
    "    nn.ReLU(),\n",
    "    nn.Linear(25, 10),\n",
    "    nn.ReLU(),\n",
    "    nn.Linear(10, 2),\n",
    "    nn.Softmax(dim = 0)\n",
    ")\n",
    "\n",
    "loss_fn = nn.MSELoss()"
   ]
  },
  {
   "cell_type": "code",
   "execution_count": 13,
   "metadata": {},
   "outputs": [],
   "source": [
    "torch_train_X = train_X.to_torch()\n",
    "torch_train_Y = train_y.to_torch()"
   ]
  },
  {
   "cell_type": "code",
   "execution_count": 14,
   "metadata": {},
   "outputs": [],
   "source": [
    "import torch.utils.data as data\n",
    "\n",
    "class UserData(data.Dataset):\n",
    "    def __init__(self, X: torch.Tensor, y: torch.Tensor):\n",
    "        self.X: torch.Tensor = X\n",
    "        self.y: torch.Tensor = y\n",
    "    \n",
    "    def __len__(self):\n",
    "        return self.y.shape[0]\n",
    "    \n",
    "    def __getitem__(self, index):\n",
    "        params = self.X[index]\n",
    "        label = self.y[index]\n",
    "        \n",
    "        return params, label"
   ]
  },
  {
   "cell_type": "code",
   "execution_count": 17,
   "metadata": {},
   "outputs": [],
   "source": [
    "n = torch_train_Y.shape[0]\n",
    "\n",
    "split = int(n * .95 // 1)\n",
    "\n",
    "training_d = UserData(torch_train_X[:split], torch_train_Y[:split])\n",
    "validation_d = UserData(torch_train_X[split:], torch_train_Y[split:])\n",
    "\n",
    "training_data_loader = data.DataLoader(dataset=training_d, shuffle=True, generator=torch.Generator(device=device), pin_memory=True, pin_memory_device=\"cuda:0\")\n",
    "validation_data_loader = data.DataLoader(dataset=validation_d, pin_memory=True, pin_memory_device=\"cuda:0\")"
   ]
  },
  {
   "cell_type": "code",
   "execution_count": 18,
   "metadata": {},
   "outputs": [
    {
     "name": "stderr",
     "output_type": "stream",
     "text": [
      "C:\\Users\\Tony Zheng\\AppData\\Roaming\\Python\\Python312\\site-packages\\torch\\utils\\_device.py:78: UserWarning: Using a target size (torch.Size([1])) that is different to the input size (torch.Size([1, 2])). This will likely lead to incorrect results due to broadcasting. Please ensure they have the same size.\n",
      "  return func(*args, **kwargs)\n"
     ]
    },
    {
     "name": "stdout",
     "output_type": "stream",
     "text": [
      "tensor(887., device='cuda:0', grad_fn=<AddBackward0>)\n",
      "tensor(884., device='cuda:0', grad_fn=<AddBackward0>)\n",
      "tensor(867., device='cuda:0', grad_fn=<AddBackward0>)\n",
      "tensor(884., device='cuda:0', grad_fn=<AddBackward0>)\n",
      "tensor(870., device='cuda:0', grad_fn=<AddBackward0>)\n",
      "tensor(868., device='cuda:0', grad_fn=<AddBackward0>)\n",
      "tensor(879., device='cuda:0', grad_fn=<AddBackward0>)\n",
      "tensor(869., device='cuda:0', grad_fn=<AddBackward0>)\n",
      "tensor(856., device='cuda:0', grad_fn=<AddBackward0>)\n",
      "tensor(867., device='cuda:0', grad_fn=<AddBackward0>)\n",
      "tensor(858., device='cuda:0', grad_fn=<AddBackward0>)\n",
      "tensor(879., device='cuda:0', grad_fn=<AddBackward0>)\n",
      "tensor(864., device='cuda:0', grad_fn=<AddBackward0>)\n",
      "tensor(879., device='cuda:0', grad_fn=<AddBackward0>)\n",
      "tensor(891., device='cuda:0', grad_fn=<AddBackward0>)\n",
      "tensor(886., device='cuda:0', grad_fn=<AddBackward0>)\n",
      "tensor(846., device='cuda:0', grad_fn=<AddBackward0>)\n",
      "tensor(878., device='cuda:0', grad_fn=<AddBackward0>)\n",
      "tensor(882., device='cuda:0', grad_fn=<AddBackward0>)\n",
      "tensor(881., device='cuda:0', grad_fn=<AddBackward0>)\n",
      "tensor(874., device='cuda:0', grad_fn=<AddBackward0>)\n",
      "tensor(882., device='cuda:0', grad_fn=<AddBackward0>)\n",
      "tensor(880., device='cuda:0', grad_fn=<AddBackward0>)\n",
      "tensor(861., device='cuda:0', grad_fn=<AddBackward0>)\n",
      "tensor(874., device='cuda:0', grad_fn=<AddBackward0>)\n",
      "tensor(865., device='cuda:0', grad_fn=<AddBackward0>)\n",
      "tensor(892., device='cuda:0', grad_fn=<AddBackward0>)\n",
      "tensor(890., device='cuda:0', grad_fn=<AddBackward0>)\n",
      "tensor(886., device='cuda:0', grad_fn=<AddBackward0>)\n",
      "tensor(891., device='cuda:0', grad_fn=<AddBackward0>)\n",
      "tensor(878., device='cuda:0', grad_fn=<AddBackward0>)\n",
      "tensor(883., device='cuda:0', grad_fn=<AddBackward0>)\n",
      "tensor(875., device='cuda:0', grad_fn=<AddBackward0>)\n",
      "tensor(894., device='cuda:0', grad_fn=<AddBackward0>)\n",
      "tensor(879., device='cuda:0', grad_fn=<AddBackward0>)\n",
      "tensor(888., device='cuda:0', grad_fn=<AddBackward0>)\n",
      "tensor(868., device='cuda:0', grad_fn=<AddBackward0>)\n",
      "tensor(863., device='cuda:0', grad_fn=<AddBackward0>)\n",
      "tensor(853., device='cuda:0', grad_fn=<AddBackward0>)\n",
      "tensor(892., device='cuda:0', grad_fn=<AddBackward0>)\n",
      "tensor(875., device='cuda:0', grad_fn=<AddBackward0>)\n",
      "tensor(872., device='cuda:0', grad_fn=<AddBackward0>)\n",
      "tensor(886., device='cuda:0', grad_fn=<AddBackward0>)\n",
      "tensor(869., device='cuda:0', grad_fn=<AddBackward0>)\n",
      "tensor(887., device='cuda:0', grad_fn=<AddBackward0>)\n",
      "tensor(888., device='cuda:0', grad_fn=<AddBackward0>)\n",
      "tensor(881., device='cuda:0', grad_fn=<AddBackward0>)\n",
      "tensor(879., device='cuda:0', grad_fn=<AddBackward0>)\n",
      "tensor(882., device='cuda:0', grad_fn=<AddBackward0>)\n",
      "tensor(860., device='cuda:0', grad_fn=<AddBackward0>)\n",
      "tensor(887., device='cuda:0', grad_fn=<AddBackward0>)\n",
      "tensor(871., device='cuda:0', grad_fn=<AddBackward0>)\n",
      "tensor(875., device='cuda:0', grad_fn=<AddBackward0>)\n",
      "tensor(894., device='cuda:0', grad_fn=<AddBackward0>)\n",
      "tensor(872., device='cuda:0', grad_fn=<AddBackward0>)\n",
      "tensor(858., device='cuda:0', grad_fn=<AddBackward0>)\n",
      "tensor(885., device='cuda:0', grad_fn=<AddBackward0>)\n",
      "tensor(866., device='cuda:0', grad_fn=<AddBackward0>)\n",
      "tensor(861., device='cuda:0', grad_fn=<AddBackward0>)\n",
      "tensor(868., device='cuda:0', grad_fn=<AddBackward0>)\n",
      "tensor(877., device='cuda:0', grad_fn=<AddBackward0>)\n",
      "tensor(881., device='cuda:0', grad_fn=<AddBackward0>)\n"
     ]
    },
    {
     "ename": "KeyboardInterrupt",
     "evalue": "",
     "output_type": "error",
     "traceback": [
      "\u001b[1;31m---------------------------------------------------------------------------\u001b[0m",
      "\u001b[1;31mKeyboardInterrupt\u001b[0m                         Traceback (most recent call last)",
      "Cell \u001b[1;32mIn[18], line 9\u001b[0m\n\u001b[0;32m      6\u001b[0m interval_loss_sum \u001b[38;5;241m=\u001b[39m \u001b[38;5;241m0\u001b[39m\n\u001b[0;32m      7\u001b[0m interval_length \u001b[38;5;241m=\u001b[39m \u001b[38;5;241m1000\u001b[39m\n\u001b[1;32m----> 9\u001b[0m \u001b[43m\u001b[49m\u001b[38;5;28;43;01mfor\u001b[39;49;00m\u001b[43m \u001b[49m\u001b[43mbatch\u001b[49m\u001b[43m,\u001b[49m\u001b[43m \u001b[49m\u001b[43mlabels\u001b[49m\u001b[43m \u001b[49m\u001b[38;5;129;43;01min\u001b[39;49;00m\u001b[43m \u001b[49m\u001b[43mtraining_data_loader\u001b[49m\u001b[43m:\u001b[49m\n\u001b[0;32m     10\u001b[0m \u001b[43m    \u001b[49m\u001b[43mbatch\u001b[49m\u001b[43m \u001b[49m\u001b[38;5;241;43m=\u001b[39;49m\u001b[43m \u001b[49m\u001b[43mbatch\u001b[49m\u001b[38;5;241;43m.\u001b[39;49m\u001b[43mto\u001b[49m\u001b[43m(\u001b[49m\u001b[43mdevice\u001b[49m\u001b[43m)\u001b[49m\u001b[38;5;241;43m.\u001b[39;49m\u001b[43mto\u001b[49m\u001b[43m(\u001b[49m\u001b[43mtorch\u001b[49m\u001b[38;5;241;43m.\u001b[39;49m\u001b[43mfloat32\u001b[49m\u001b[43m)\u001b[49m\u001b[43m;\u001b[49m\u001b[43m \u001b[49m\u001b[43mlabels\u001b[49m\u001b[43m \u001b[49m\u001b[38;5;241;43m=\u001b[39;49m\u001b[43m \u001b[49m\u001b[43mlabels\u001b[49m\u001b[38;5;241;43m.\u001b[39;49m\u001b[43mto\u001b[49m\u001b[43m(\u001b[49m\u001b[43mdevice\u001b[49m\u001b[43m)\u001b[49m\u001b[38;5;241;43m.\u001b[39;49m\u001b[43mto\u001b[49m\u001b[43m(\u001b[49m\u001b[43mtorch\u001b[49m\u001b[38;5;241;43m.\u001b[39;49m\u001b[43mtorch\u001b[49m\u001b[38;5;241;43m.\u001b[39;49m\u001b[43mfloat32\u001b[49m\u001b[43m)\u001b[49m\n\u001b[0;32m     12\u001b[0m \u001b[43m    \u001b[49m\u001b[43my_pred\u001b[49m\u001b[43m \u001b[49m\u001b[38;5;241;43m=\u001b[39;49m\u001b[43m \u001b[49m\u001b[43mmodel\u001b[49m\u001b[43m(\u001b[49m\u001b[43mbatch\u001b[49m\u001b[43m)\u001b[49m\n",
      "File \u001b[1;32m~\\AppData\\Roaming\\Python\\Python312\\site-packages\\torch\\utils\\data\\dataloader.py:631\u001b[0m, in \u001b[0;36m_BaseDataLoaderIter.__next__\u001b[1;34m(self)\u001b[0m\n\u001b[0;32m    628\u001b[0m \u001b[38;5;28;01mif\u001b[39;00m \u001b[38;5;28mself\u001b[39m\u001b[38;5;241m.\u001b[39m_sampler_iter \u001b[38;5;129;01mis\u001b[39;00m \u001b[38;5;28;01mNone\u001b[39;00m:\n\u001b[0;32m    629\u001b[0m     \u001b[38;5;66;03m# TODO(https://github.com/pytorch/pytorch/issues/76750)\u001b[39;00m\n\u001b[0;32m    630\u001b[0m     \u001b[38;5;28mself\u001b[39m\u001b[38;5;241m.\u001b[39m_reset()  \u001b[38;5;66;03m# type: ignore[call-arg]\u001b[39;00m\n\u001b[1;32m--> 631\u001b[0m data \u001b[38;5;241m=\u001b[39m \u001b[38;5;28;43mself\u001b[39;49m\u001b[38;5;241;43m.\u001b[39;49m\u001b[43m_next_data\u001b[49m\u001b[43m(\u001b[49m\u001b[43m)\u001b[49m\n\u001b[0;32m    632\u001b[0m \u001b[38;5;28mself\u001b[39m\u001b[38;5;241m.\u001b[39m_num_yielded \u001b[38;5;241m+\u001b[39m\u001b[38;5;241m=\u001b[39m \u001b[38;5;241m1\u001b[39m\n\u001b[0;32m    633\u001b[0m \u001b[38;5;28;01mif\u001b[39;00m \u001b[38;5;28mself\u001b[39m\u001b[38;5;241m.\u001b[39m_dataset_kind \u001b[38;5;241m==\u001b[39m _DatasetKind\u001b[38;5;241m.\u001b[39mIterable \u001b[38;5;129;01mand\u001b[39;00m \\\n\u001b[0;32m    634\u001b[0m         \u001b[38;5;28mself\u001b[39m\u001b[38;5;241m.\u001b[39m_IterableDataset_len_called \u001b[38;5;129;01mis\u001b[39;00m \u001b[38;5;129;01mnot\u001b[39;00m \u001b[38;5;28;01mNone\u001b[39;00m \u001b[38;5;129;01mand\u001b[39;00m \\\n\u001b[0;32m    635\u001b[0m         \u001b[38;5;28mself\u001b[39m\u001b[38;5;241m.\u001b[39m_num_yielded \u001b[38;5;241m>\u001b[39m \u001b[38;5;28mself\u001b[39m\u001b[38;5;241m.\u001b[39m_IterableDataset_len_called:\n",
      "File \u001b[1;32m~\\AppData\\Roaming\\Python\\Python312\\site-packages\\torch\\utils\\data\\dataloader.py:677\u001b[0m, in \u001b[0;36m_SingleProcessDataLoaderIter._next_data\u001b[1;34m(self)\u001b[0m\n\u001b[0;32m    675\u001b[0m data \u001b[38;5;241m=\u001b[39m \u001b[38;5;28mself\u001b[39m\u001b[38;5;241m.\u001b[39m_dataset_fetcher\u001b[38;5;241m.\u001b[39mfetch(index)  \u001b[38;5;66;03m# may raise StopIteration\u001b[39;00m\n\u001b[0;32m    676\u001b[0m \u001b[38;5;28;01mif\u001b[39;00m \u001b[38;5;28mself\u001b[39m\u001b[38;5;241m.\u001b[39m_pin_memory:\n\u001b[1;32m--> 677\u001b[0m     data \u001b[38;5;241m=\u001b[39m \u001b[43m_utils\u001b[49m\u001b[38;5;241;43m.\u001b[39;49m\u001b[43mpin_memory\u001b[49m\u001b[38;5;241;43m.\u001b[39;49m\u001b[43mpin_memory\u001b[49m\u001b[43m(\u001b[49m\u001b[43mdata\u001b[49m\u001b[43m,\u001b[49m\u001b[43m \u001b[49m\u001b[38;5;28;43mself\u001b[39;49m\u001b[38;5;241;43m.\u001b[39;49m\u001b[43m_pin_memory_device\u001b[49m\u001b[43m)\u001b[49m\n\u001b[0;32m    678\u001b[0m \u001b[38;5;28;01mreturn\u001b[39;00m data\n",
      "File \u001b[1;32m~\\AppData\\Roaming\\Python\\Python312\\site-packages\\torch\\utils\\data\\_utils\\pin_memory.py:56\u001b[0m, in \u001b[0;36mpin_memory\u001b[1;34m(data, device)\u001b[0m\n\u001b[0;32m     51\u001b[0m     \u001b[38;5;28;01mwhile\u001b[39;00m \u001b[38;5;129;01mnot\u001b[39;00m done_event\u001b[38;5;241m.\u001b[39mis_set():\n\u001b[0;32m     52\u001b[0m         \u001b[38;5;66;03m# Make sure that we don't preserve any object from one iteration\u001b[39;00m\n\u001b[0;32m     53\u001b[0m         \u001b[38;5;66;03m# to the next\u001b[39;00m\n\u001b[0;32m     54\u001b[0m         do_one_step()\n\u001b[1;32m---> 56\u001b[0m \u001b[38;5;28;01mdef\u001b[39;00m \u001b[38;5;21mpin_memory\u001b[39m(data, device\u001b[38;5;241m=\u001b[39m\u001b[38;5;28;01mNone\u001b[39;00m):\n\u001b[0;32m     57\u001b[0m     \u001b[38;5;28;01mif\u001b[39;00m \u001b[38;5;28misinstance\u001b[39m(data, torch\u001b[38;5;241m.\u001b[39mTensor):\n\u001b[0;32m     58\u001b[0m         \u001b[38;5;28;01mreturn\u001b[39;00m data\u001b[38;5;241m.\u001b[39mpin_memory(device)\n",
      "\u001b[1;31mKeyboardInterrupt\u001b[0m: "
     ]
    }
   ],
   "source": [
    "epochs = 1\n",
    "learning_rate = 0.05\n",
    "\n",
    "for e in range(epochs):\n",
    "    t = 1\n",
    "    interval_loss_sum = 0\n",
    "    interval_length = 1000\n",
    "\n",
    "    for batch, labels in training_data_loader:\n",
    "        batch = batch.to(device).to(torch.float32); labels = labels.to(device).to(torch.torch.float32)\n",
    "        \n",
    "        y_pred = model(batch)\n",
    "        loss = loss_fn(input = y_pred, target = labels)\n",
    "        \n",
    "        interval_loss_sum += loss\n",
    "        if t % interval_length == 0:\n",
    "            print(interval_loss_sum)\n",
    "            interval_loss_sum = 0\n",
    "\n",
    "        model.zero_grad()\n",
    "        loss.backward()\n",
    "\n",
    "        with torch.no_grad():\n",
    "            for param in model.parameters():\n",
    "                param -= learning_rate * param.grad\n",
    "            \n",
    "        t += 1"
   ]
  }
 ],
 "metadata": {
  "kernelspec": {
   "display_name": "Python 3",
   "language": "python",
   "name": "python3"
  },
  "language_info": {
   "codemirror_mode": {
    "name": "ipython",
    "version": 3
   },
   "file_extension": ".py",
   "mimetype": "text/x-python",
   "name": "python",
   "nbconvert_exporter": "python",
   "pygments_lexer": "ipython3",
   "version": "3.12.3"
  }
 },
 "nbformat": 4,
 "nbformat_minor": 2
}
